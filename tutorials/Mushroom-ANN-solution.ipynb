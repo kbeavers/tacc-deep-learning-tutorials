{
 "cells": [
  {
   "cell_type": "markdown",
   "metadata": {},
   "source": [
    "# Build Your Own Neural Network\n",
    "In this section we will build a simple neural network, train it and validate it on a sample test data.\n",
    "For this exercise, we will use the [Mushroom dataset from the Audobon Society Field Guide](https://archive.ics.uci.edu/dataset/73/mushroom>).\n",
    "This dataset includes 22 physical characteristics of ~8,000 mushrooms spanning 23 species of gilled mushrooms in the Agaricus and Lepiota Family.\n",
    "Our task is to predict whether a mushroom is edible or poisonous based on its physical characteristics.\n",
    "\n",
    "By the end of this excercise participants will be able to:\n",
    "\n",
    "1. Import the Mushroom dataset from the UCI Machine Learning Repository.\n",
    "2. Examine and preprocess the data to be fed to the neural network.\n",
    "3. Build a sequential model neural network using TensorFlow Keras.\n",
    "4. Evaluate the model's performance on test data."
   ]
  },
  {
   "cell_type": "markdown",
   "metadata": {},
   "source": [
    "## Step 0: Check GPU Availability and TensorFlow Version\n",
    "Before training deep learning models, it’s important to check whether TensorFlow can access the GPU on your machine. Training on a GPU is significantly faster than on a CPU, especially for large image datasets.\n",
    "\n",
    "If you’ve followed the setup instructions in the [TACC Deep Learning Tutorials README](https://github.com/kbeavers/tacc-deep-learning-tutorials), and you’ve run the install_kernel.sh script on Frontera, you should now be running this notebook inside a containerized Jupyter kernel that includes:\n",
    "\n",
    " - TensorFlow v. 2.13.0 with GPU support\n",
    " - CUDA libraries compatible with the system\n",
    " - All required Python packages pre-installed\n",
    "\n",
    "This cell will confirm that your environment is correctly configured (TIP: Make sure you change your kernel to ``Day3-tf-213``)."
   ]
  },
  {
   "cell_type": "code",
   "execution_count": 51,
   "metadata": {},
   "outputs": [
    {
     "name": "stdout",
     "output_type": "stream",
     "text": [
      "[PhysicalDevice(name='/physical_device:GPU:0', device_type='GPU'), PhysicalDevice(name='/physical_device:GPU:1', device_type='GPU'), PhysicalDevice(name='/physical_device:GPU:2', device_type='GPU'), PhysicalDevice(name='/physical_device:GPU:3', device_type='GPU')]\n"
     ]
    }
   ],
   "source": [
    "import tensorflow as tf\n",
    "print(tf.config.list_physical_devices('GPU'))"
   ]
  },
  {
   "cell_type": "code",
   "execution_count": 52,
   "metadata": {},
   "outputs": [],
   "source": [
    "import pandas as pd\n",
    "from ucimlrepo import fetch_ucirepo\n",
    "import random\n",
    "\n",
    "random.seed(123)\n",
    "\n",
    "# fetch dataset\n",
    "mushroom = fetch_ucirepo(id=73)"
   ]
  },
  {
   "cell_type": "markdown",
   "metadata": {},
   "source": [
    "Let's inspect the metadata:"
   ]
  },
  {
   "cell_type": "code",
   "execution_count": 53,
   "metadata": {},
   "outputs": [
    {
     "name": "stdout",
     "output_type": "stream",
     "text": [
      "Dataset Overview: From Audobon Society Field Guide; mushrooms described in terms of physical characteristics; classification: poisonous or edible\n",
      "Number of Instances: 8124\n",
      "Number of Features: 22\n",
      "Has Missing Values: yes\n"
     ]
    }
   ],
   "source": [
    "print(\"Dataset Overview:\", mushroom.metadata.abstract)\n",
    "print(\"Number of Instances:\", mushroom.metadata.num_instances)\n",
    "print(\"Number of Features:\", mushroom.metadata.num_features)\n",
    "print(\"Has Missing Values:\", mushroom.metadata.has_missing_values)"
   ]
  },
  {
   "cell_type": "markdown",
   "metadata": {},
   "source": [
    "We know that the Mushroom dataset has 8124 instances (samples) and 22 features (physical characteristics), and there are missing values in the dataset.\n",
    "Now that we have loaded the dataset, let's separate the features (``X``) from the target variable and examine the structure of our feature data."
   ]
  },
  {
   "cell_type": "code",
   "execution_count": 54,
   "metadata": {},
   "outputs": [
    {
     "name": "stdout",
     "output_type": "stream",
     "text": [
      "<class 'pandas.core.frame.DataFrame'>\n",
      "RangeIndex: 8124 entries, 0 to 8123\n",
      "Data columns (total 22 columns):\n",
      " #   Column                    Non-Null Count  Dtype \n",
      "---  ------                    --------------  ----- \n",
      " 0   cap-shape                 8124 non-null   object\n",
      " 1   cap-surface               8124 non-null   object\n",
      " 2   cap-color                 8124 non-null   object\n",
      " 3   bruises                   8124 non-null   object\n",
      " 4   odor                      8124 non-null   object\n",
      " 5   gill-attachment           8124 non-null   object\n",
      " 6   gill-spacing              8124 non-null   object\n",
      " 7   gill-size                 8124 non-null   object\n",
      " 8   gill-color                8124 non-null   object\n",
      " 9   stalk-shape               8124 non-null   object\n",
      " 10  stalk-root                5644 non-null   object\n",
      " 11  stalk-surface-above-ring  8124 non-null   object\n",
      " 12  stalk-surface-below-ring  8124 non-null   object\n",
      " 13  stalk-color-above-ring    8124 non-null   object\n",
      " 14  stalk-color-below-ring    8124 non-null   object\n",
      " 15  veil-type                 8124 non-null   object\n",
      " 16  veil-color                8124 non-null   object\n",
      " 17  ring-number               8124 non-null   object\n",
      " 18  ring-type                 8124 non-null   object\n",
      " 19  spore-print-color         8124 non-null   object\n",
      " 20  population                8124 non-null   object\n",
      " 21  habitat                   8124 non-null   object\n",
      "dtypes: object(22)\n",
      "memory usage: 1.4+ MB\n",
      "None\n"
     ]
    }
   ],
   "source": [
    "X = mushroom.data.features\n",
    "print(X.info())"
   ]
  },
  {
   "cell_type": "markdown",
   "metadata": {},
   "source": [
    "Next, let's isolate and examine our target variable ``y``:"
   ]
  },
  {
   "cell_type": "code",
   "execution_count": 55,
   "metadata": {},
   "outputs": [
    {
     "name": "stdout",
     "output_type": "stream",
     "text": [
      "<class 'pandas.core.frame.DataFrame'>\n",
      "RangeIndex: 8124 entries, 0 to 8123\n",
      "Data columns (total 1 columns):\n",
      " #   Column     Non-Null Count  Dtype \n",
      "---  ------     --------------  ----- \n",
      " 0   poisonous  8124 non-null   object\n",
      "dtypes: object(1)\n",
      "memory usage: 63.6+ KB\n",
      "None\n"
     ]
    }
   ],
   "source": [
    "y = mushroom.data.targets\n",
    "print(y.info())"
   ]
  },
  {
   "cell_type": "markdown",
   "metadata": {},
   "source": [
    "In pandas, a Dtype (data type) specifies how the data in a column should be stored and interpreted.\n",
    "When we see a Dtype of ``object``, it typically means the column contains strings or a mix of different data types. Let's examine our data further:"
   ]
  },
  {
   "cell_type": "code",
   "execution_count": 56,
   "metadata": {},
   "outputs": [
    {
     "name": "stdout",
     "output_type": "stream",
     "text": [
      "  cap-shape cap-surface cap-color bruises odor gill-attachment gill-spacing  \\\n",
      "0         x           s         n       t    p               f            c   \n",
      "1         x           s         y       t    a               f            c   \n",
      "2         b           s         w       t    l               f            c   \n",
      "\n",
      "  gill-size gill-color stalk-shape  ... stalk-surface-below-ring  \\\n",
      "0         n          k           e  ...                        s   \n",
      "1         b          k           e  ...                        s   \n",
      "2         b          n           e  ...                        s   \n",
      "\n",
      "  stalk-color-above-ring stalk-color-below-ring veil-type veil-color  \\\n",
      "0                      w                      w         p          w   \n",
      "1                      w                      w         p          w   \n",
      "2                      w                      w         p          w   \n",
      "\n",
      "  ring-number ring-type spore-print-color population habitat  \n",
      "0           o         p                 k          s       u  \n",
      "1           o         p                 n          n       g  \n",
      "2           o         p                 n          n       m  \n",
      "\n",
      "[3 rows x 22 columns]\n"
     ]
    }
   ],
   "source": [
    "print(X.head(3))"
   ]
  },
  {
   "cell_type": "markdown",
   "metadata": {},
   "source": [
    "In this dataset, the features are categorical variables stored as strings (which pandas represents as ``object`` Dtype). \n",
    "Each feature is encoded with single-character values that represent specific categories.\n",
    "\n",
    "For a complete reference of all categorical values and their meanings, visit the [UCI Mushroom Dataset page](https://archive.ics.uci.edu/dataset/73/mushroom).\n",
    "\n",
    "Here are a few examples of the categorical encodings:\n",
    " \n",
    " * **cap-shape**: 'x' (convex), 'b' (bell), 'f' (flat), etc.\n",
    " * **cap-color**: 'n' (brown), 'y' (yellow), 'w' (white), etc.\n",
    " * **odor**: 'p' (pungent), 'a' (almond), 'l' (anise), etc.\n",
    "\n",
    "\n",
    "Next, let's take a look at the target variable:"
   ]
  },
  {
   "cell_type": "code",
   "execution_count": 57,
   "metadata": {},
   "outputs": [
    {
     "name": "stdout",
     "output_type": "stream",
     "text": [
      "  poisonous\n",
      "0         p\n",
      "1         e\n",
      "2         e\n",
      "3         p\n",
      "4         e\n"
     ]
    }
   ],
   "source": [
    "print(y.head())"
   ]
  },
  {
   "cell_type": "markdown",
   "metadata": {},
   "source": [
    "The target variable contains two categorical labels: ``p`` (poisonous) and ``e`` (edible).\n",
    "With this insight into our dataset's structure, our next step is to prepare the data for model training.\n",
    "\n",
    "\n",
    "**Thought Challenge:** What are some things that you have noticed about the data that you think we will need to fix before feeding it to the neural network? Pause here and write down your thoughts before continuing."
   ]
  },
  {
   "cell_type": "markdown",
   "metadata": {},
   "source": [
    "## Step 2: Data pre-processing\n",
    "Our exploration of the Mushroom dataset reveals a collection of 8124 samples with 22 features and a single target variable. Before proceeding with model development, several preprocessing challenges need to be addressed:\n",
    "\n",
    " 1. The dataset contains missing values that require handling.\n",
    " 2. All features are categorical, encoded as text strings (represented as ``object`` type in pandas).\n",
    " 3. The target variable itself is categorical, using ``p`` to indicate poisonous mushrooms and ``e`` for edible ones.\n",
    "\n",
    "First, let's handle the missing values. Let's see how many missing values are in the dataset, and where they are located:"
   ]
  },
  {
   "cell_type": "code",
   "execution_count": 58,
   "metadata": {},
   "outputs": [
    {
     "name": "stdout",
     "output_type": "stream",
     "text": [
      "cap-shape                      0\n",
      "cap-surface                    0\n",
      "cap-color                      0\n",
      "bruises                        0\n",
      "odor                           0\n",
      "gill-attachment                0\n",
      "gill-spacing                   0\n",
      "gill-size                      0\n",
      "gill-color                     0\n",
      "stalk-shape                    0\n",
      "stalk-root                  2480\n",
      "stalk-surface-above-ring       0\n",
      "stalk-surface-below-ring       0\n",
      "stalk-color-above-ring         0\n",
      "stalk-color-below-ring         0\n",
      "veil-type                      0\n",
      "veil-color                     0\n",
      "ring-number                    0\n",
      "ring-type                      0\n",
      "spore-print-color              0\n",
      "population                     0\n",
      "habitat                        0\n",
      "dtype: int64\n",
      "Columns with missing values:\n",
      "stalk-root    2480\n",
      "dtype: int64\n"
     ]
    }
   ],
   "source": [
    "missing_values = X.isnull().sum()\n",
    "print(missing_values)\n",
    "print(\"Columns with missing values:\")\n",
    "print(missing_values[missing_values > 0])"
   ]
  },
  {
   "cell_type": "markdown",
   "metadata": {},
   "source": [
    "The output shows that ``stalk-root`` is missing data for 2480 samples, while all other features have complete data.\n",
    "Let's remove this column from the dataset:"
   ]
  },
  {
   "cell_type": "code",
   "execution_count": 59,
   "metadata": {},
   "outputs": [],
   "source": [
    "X_clean = X.drop(columns='stalk-root')"
   ]
  },
  {
   "cell_type": "markdown",
   "metadata": {},
   "source": [
    "Now we need to encode our categorical variables into a format suitable for the neural network. We'll use one-hot encoding via ``pd.get_dummies()`` to transform each categorical feature into multiple binary columns. For example, if a feature has three possible values (A, B, C), it will be converted into three separate columns, where only one column will have a value of 1 (True) and the others 0 (False):"
   ]
  },
  {
   "cell_type": "code",
   "execution_count": 60,
   "metadata": {},
   "outputs": [
    {
     "name": "stdout",
     "output_type": "stream",
     "text": [
      "   cap-shape_b  cap-shape_c  cap-shape_f  cap-shape_k  cap-shape_s  \\\n",
      "0        False        False        False        False        False   \n",
      "1        False        False        False        False        False   \n",
      "\n",
      "   cap-shape_x  cap-surface_f  cap-surface_g  cap-surface_s  cap-surface_y  \\\n",
      "0         True          False          False           True          False   \n",
      "1         True          False          False           True          False   \n",
      "\n",
      "   ...  population_s  population_v  population_y  habitat_d  habitat_g  \\\n",
      "0  ...          True         False         False      False      False   \n",
      "1  ...         False         False         False      False       True   \n",
      "\n",
      "   habitat_l  habitat_m  habitat_p  habitat_u  habitat_w  \n",
      "0      False      False      False       True      False  \n",
      "1      False      False      False      False      False  \n",
      "\n",
      "[2 rows x 112 columns]\n"
     ]
    }
   ],
   "source": [
    "X_encoded = pd.get_dummies(X_clean)\n",
    "print(X_encoded.head(2))"
   ]
  },
  {
   "cell_type": "markdown",
   "metadata": {},
   "source": [
    "Now, instead of having 22 features, we have 112 features, each representing a binary True/False value for each categorical value in the original features.\n",
    "\n",
    "Finally, let's encode the target variable. We will simply convert the string labels ``p`` and ``e`` into binary numeric values of 1 and 0, respectively.\n",
    "In this case, 1 will represent a poisonous mushroom and 0 will represent an edible mushroom."
   ]
  },
  {
   "cell_type": "code",
   "execution_count": 61,
   "metadata": {},
   "outputs": [],
   "source": [
    "y_encoded = y['poisonous'].map({'p': 1, 'e': 0})"
   ]
  },
  {
   "cell_type": "markdown",
   "metadata": {},
   "source": [
    "Now would be a good time to check the class distribution of our dataset:"
   ]
  },
  {
   "cell_type": "code",
   "execution_count": 62,
   "metadata": {},
   "outputs": [
    {
     "name": "stdout",
     "output_type": "stream",
     "text": [
      "\n",
      "Class Distribution:\n",
      "poisonous\n",
      "0    4208\n",
      "1    3916\n",
      "Name: count, dtype: int64\n",
      "\n",
      "Percentage:\n",
      "poisonous\n",
      "0    51.797144\n",
      "1    48.202856\n",
      "Name: proportion, dtype: float64\n"
     ]
    }
   ],
   "source": [
    "print(\"\\nClass Distribution:\")\n",
    "print(y_encoded.value_counts())\n",
    "print(\"\\nPercentage:\")\n",
    "print(y_encoded.value_counts(normalize=True) * 100)"
   ]
  },
  {
   "cell_type": "markdown",
   "metadata": {},
   "source": [
    "We have a roughly balanced dataset with 51.8% of the samples being edible and 48.2% being poisonous.\n",
    "We can now split the dataset into training and test sets:"
   ]
  },
  {
   "cell_type": "code",
   "execution_count": 63,
   "metadata": {},
   "outputs": [
    {
     "name": "stdout",
     "output_type": "stream",
     "text": [
      "Training set shape: (5686, 112) (5686,)\n",
      "Testing set shape: (2438, 112) (2438,)\n"
     ]
    }
   ],
   "source": [
    "from sklearn.model_selection import train_test_split\n",
    "\n",
    "# Split the dataset into training and testing sets\n",
    "X_train, X_test, y_train, y_test = train_test_split(\n",
    "    X_encoded,\n",
    "    y_encoded,\n",
    "    test_size=0.3,\n",
    "    stratify=y_encoded,\n",
    "    random_state=123\n",
    ")\n",
    "\n",
    "# Examine the shape of the training and testing sets\n",
    "print(\"Training set shape:\", X_train.shape, y_train.shape)\n",
    "print(\"Testing set shape:\", X_test.shape, y_test.shape)"
   ]
  },
  {
   "cell_type": "markdown",
   "metadata": {},
   "source": [
    "**Understanding the Train-Test Split**\n",
    "\n",
    "The code above divides our data into training and testing sets, creating four objects:\n",
    "``X_train``, ``X_test``, ``y_train``, and ``y_test``.\n",
    "\n",
    "| Parameter | Purpose | In Our Example |\n",
    "|-----------|---------|----------------|\n",
    "| `test_size` | Determines what portion of data is reserved for testing | 30% for testing, 70% for training |\n",
    "| `stratify` | Maintains the same class distribution in both splits | Ensures balanced representation of poisonous/edible classes |\n",
    "| `random_state` | Controls the shuffling of data before splitting | Ensures we get the same samples in train/test splits each time we run the code |\n",
    "\n",
    "**Why These Parameters Matter:**\n",
    "\n",
    "* **Test Size**: Finding the right balance between having enough data for training while reserving sufficient data for testing is crucial. Too little test data may not reliably assess model performance; too little training data may limit learning.\n",
    "\n",
    "* **Stratification**: When working with classification problems, maintaining class proportions is essential. Without stratification, you might accidentally create a test set with disproportionate class representation, leading to misleading evaluation metrics.\n",
    "\n",
    "* **Random State**: Without setting ``random_state``, you'd get a different train/test split each time you run the code. When you set a fixed value here, you'll get the same splits, allowing you to make fair comparisons when you make changes to your model. \n",
    "\n",
    "**Tip**: While our dataset has roughly balanced classes, stratification becomes especially important with imbalanced datasets. Always consider using ``stratify`` as a best practice.\n",
    "\n",
    "## Step 3: Building a sequential model neural network\n",
    "Now we'll create a simple neural network for our mushroom classification task. The model will consist of:\n",
    "\n",
    "- An **input layer** that matches our feature dimensions\n",
    "- A **hidden layer** with 10 neurons and ReLU activation\n",
    "- An **output layer** with sigmoid activation for binary classification\n",
    "\n",
    "This architecture provides a good starting point for understanding how neural networks learn from tabular data."
   ]
  },
  {
   "cell_type": "code",
   "execution_count": 64,
   "metadata": {},
   "outputs": [
    {
     "name": "stdout",
     "output_type": "stream",
     "text": [
      "Model: \"sequential_2\"\n",
      "_________________________________________________________________\n",
      " Layer (type)                Output Shape              Param #   \n",
      "=================================================================\n",
      " dense_4 (Dense)             (None, 10)                1130      \n",
      "                                                                 \n",
      " dense_5 (Dense)             (None, 1)                 11        \n",
      "                                                                 \n",
      "=================================================================\n",
      "Total params: 1141 (4.46 KB)\n",
      "Trainable params: 1141 (4.46 KB)\n",
      "Non-trainable params: 0 (0.00 Byte)\n",
      "_________________________________________________________________\n"
     ]
    }
   ],
   "source": [
    "# Import necessary libraries from Tensorflow\n",
    "import tensorflow as tf\n",
    "from tensorflow.keras import Sequential\n",
    "from tensorflow.keras.layers import Input, Dense\n",
    "\n",
    "# Set random seed for reproducibility\n",
    "tf.random.set_seed(123) \n",
    "\n",
    "# Create model with sequential API\n",
    "model = Sequential([\n",
    "    # Input layer - shape matches our feature count\n",
    "    Input(shape=(112,)),  # 1D tensor with 112 features\n",
    "\n",
    "    # Hidden layer - 10 neurons with ReLU activation\n",
    "    # ReLU allows the network to learn non-linear patterns\n",
    "    Dense(10, activation='relu'),\n",
    "\n",
    "    # Output layer - single neuron with sigmoid activation\n",
    "    # Sigmoid squashes output between 0-1, perfect for binary classification\n",
    "    Dense(1, activation='sigmoid')\n",
    "])\n",
    "\n",
    "# Compile the model with appropriate settings for binary classification\n",
    "model.compile(\n",
    "    optimizer='adam',              # Adam: efficient gradient-based optimizer\n",
    "    loss='binary_crossentropy',    # Standard loss function for binary problems\n",
    "    metrics=['accuracy']           # Track accuracy during training\n",
    ")\n",
    "\n",
    "# Display model architecture and parameter count\n",
    "model.summary()"
   ]
  },
  {
   "cell_type": "markdown",
   "metadata": {},
   "source": [
    "**Thought Challenge**: How many parameters does the model have? Can you calculate this manually and get the same result?"
   ]
  },
  {
   "cell_type": "markdown",
   "metadata": {},
   "source": [
    "**Training the Neural Network**\n",
    "\n",
    "With our model built and compiled, we can now train it on our data. Before executing the training code, let’s understand the key parameters we’ll use:\n",
    "\n",
    "| Parameter | Description |\n",
    "|-----------|-------------|\n",
    "| **validation_split=0.2** | Reserves 20% of training data to evaluate performance during training, without affecting model weights |\n",
    "| **epochs=5** | Number of complete passes through the dataset; more epochs allow for more learning iterations but risk overfitting |\n",
    "| **batch_size=32** | Number of samples processed before weight update; affects memory usage, training speed, and convergence behavior |\n",
    "| **verbose=2** | Controls output level (0=silent, 1=progress bar, 2=one line per epoch) |\n",
    "\n",
    "**Thought Challenge**: How does the choice of ``batch_size`` affect the training process?\n",
    "\n",
    "Now let's train our model with these parameters:"
   ]
  },
  {
   "cell_type": "code",
   "execution_count": 65,
   "metadata": {},
   "outputs": [
    {
     "name": "stdout",
     "output_type": "stream",
     "text": [
      "Epoch 1/5\n",
      "143/143 - 1s - loss: 0.3543 - accuracy: 0.8709 - val_loss: 0.1458 - val_accuracy: 0.9569 - 1s/epoch - 9ms/step\n",
      "Epoch 2/5\n",
      "143/143 - 0s - loss: 0.0966 - accuracy: 0.9756 - val_loss: 0.0647 - val_accuracy: 0.9851 - 398ms/epoch - 3ms/step\n",
      "Epoch 3/5\n",
      "143/143 - 0s - loss: 0.0486 - accuracy: 0.9888 - val_loss: 0.0372 - val_accuracy: 0.9938 - 398ms/epoch - 3ms/step\n",
      "Epoch 4/5\n",
      "143/143 - 0s - loss: 0.0291 - accuracy: 0.9954 - val_loss: 0.0235 - val_accuracy: 0.9982 - 394ms/epoch - 3ms/step\n",
      "Epoch 5/5\n",
      "143/143 - 0s - loss: 0.0192 - accuracy: 0.9976 - val_loss: 0.0161 - val_accuracy: 0.9991 - 386ms/epoch - 3ms/step\n"
     ]
    },
    {
     "data": {
      "text/plain": [
       "<keras.src.callbacks.History at 0x2ae2620bc790>"
      ]
     },
     "execution_count": 65,
     "metadata": {},
     "output_type": "execute_result"
    }
   ],
   "source": [
    "# Train the model with the specified parameters\n",
    "model.fit(X_train, y_train, validation_split=0.2, epochs=5, batch_size=32, verbose=2)"
   ]
  },
  {
   "cell_type": "markdown",
   "metadata": {},
   "source": [
    "Let's understand what this output tells us:\n",
    "\n",
    "1. **Progress metrics**:\n",
    "  - ``143/143``: Shows progress through the training batches; 143 batches were completed out of 143, and each batch contains 32 samples (as specified by ``batch_size=32``)\n",
    "  - ``3s``: Indicates the time taken for each epoch; here, the first epoch took <1 second to complete.\n",
    "  - ``9ms/step``: This indicates the average time taken per training step (one forward and backward pass through a single batch) during training.\n",
    "\n",
    "2. **Training metrics**:\n",
    "  - ``accuracy: 0.8709``: Represents the accuracy of the model on the training dataset.\n",
    "  - ``loss: 0.3543``: Represents the training loss value (using binary cross-entropy loss function) on the training dataset. Higher loss values indicate that the model's predictions are further from the true labels.\n",
    "\n",
    "3. **Validation metrics**:\n",
    "  - ``val_accuracy: 0.9569``: Represents the accuracy of the model on the validation dataset. \n",
    "  - ``val_loss: 0.1458``: Represents the validation loss value (using binary cross-entropy loss function) on the validation dataset.\n",
    "\n",
    "Looking at our training results after 5 epochs, we can observe:\n",
    "\n",
    "1. The model achieved excellent performance, with final training accuracy of 99.76% and validation accuracy of 99.91%.\n",
    "2. Both training and validation loss steadily decreased across epochs, indicating consistent learning.\n",
    "3. Validation metrics consistently tracked close to training metrics, suggesting the model generalizes well rather than memorizing the training data.\n",
    "\n",
    "Let's visualize our training progress before moving on:"
   ]
  },
  {
   "cell_type": "code",
   "execution_count": 72,
   "metadata": {},
   "outputs": [
    {
     "data": {
      "image/png": "[encoded data removed]",
      "text/plain": [
       "<Figure size 1000x400 with 2 Axes>"
      ]
     },
     "metadata": {},
     "output_type": "display_data"
    }
   ],
   "source": [
    "import matplotlib.pyplot as plt\n",
    "\n",
    "# Create a simple visualization of training history\n",
    "plt.figure(figsize=(10, 4))\n",
    "\n",
    "# Plot training & validation accuracy\n",
    "plt.subplot(1, 2, 1)\n",
    "plt.plot([0.8709, 0.9756, 0.9888, 0.9954, 0.9976], label='Training Accuracy')\n",
    "plt.plot([0.9569, 0.9851, 0.9938, 0.9982, 0.9991], label='Validation Accuracy')\n",
    "plt.title('Model Accuracy')\n",
    "plt.ylabel('Accuracy')\n",
    "plt.xlabel('Epoch')\n",
    "plt.legend()\n",
    "\n",
    "# Plot training & validation loss\n",
    "plt.subplot(1, 2, 2)\n",
    "plt.plot([0.3543, 0.0966, 0.0486, 0.0291, 0.0192], label='Training Loss')\n",
    "plt.plot([0.1458, 0.0647, 0.0372, 0.0235, 0.0161], label='Validation Loss')\n",
    "plt.title('Model Loss')\n",
    "plt.ylabel('Loss')\n",
    "plt.xlabel('Epoch')\n",
    "plt.legend()\n",
    "\n",
    "plt.tight_layout()\n",
    "plt.show()"
   ]
  },
  {
   "cell_type": "markdown",
   "metadata": {},
   "source": [
    "This high performance is promising, but we should verify it on our completely separate test set, which the model has never seen during training. This will give us the most reliable measure of how well our model might perform in real-world scenarios.\n",
    "## Step 4: Evaluate the model's performance on test data\n",
    "The true test of our model's capabilities comes from evaluating it on our completely separate test dataset. Let's see how our neural network performs when classifying mushrooms it has never encountered before!"
   ]
  },
  {
   "cell_type": "code",
   "execution_count": 67,
   "metadata": {},
   "outputs": [
    {
     "name": "stdout",
     "output_type": "stream",
     "text": [
      "77/77 [==============================] - 0s 1ms/step\n"
     ]
    }
   ],
   "source": [
    "# Make predictions on the test data\n",
    "y_pred=model.predict(X_test)"
   ]
  },
  {
   "cell_type": "markdown",
   "metadata": {},
   "source": [
    "For a binary classification problem like our (poisonous vs edible), the model outputs probabilities between 0 and 1 for each sample. Let's show the first sample's prediction:"
   ]
  },
  {
   "cell_type": "code",
   "execution_count": 68,
   "metadata": {},
   "outputs": [
    {
     "data": {
      "text/plain": [
       "array([0.00323989], dtype=float32)"
      ]
     },
     "execution_count": 68,
     "metadata": {},
     "output_type": "execute_result"
    }
   ],
   "source": [
    "# Show the first sample's prediction\n",
    "y_pred[0]"
   ]
  },
  {
   "cell_type": "markdown",
   "metadata": {},
   "source": [
    "This shows the probability for the first mushroom sample in the test set.\n",
    "The output is a single value between 0 and 1, where:\n",
    " - Values closer to 1 indicate the model is more confident that the sample is poisonous.\n",
    " - Values closer to 0 indicate the model is more confident that the sample is edible.\n",
    "\n",
    "For example, our output value is 0.0032, which means that the model is 99.74% confident that the sample is edible.\n",
    "\n",
    "The model outputs probability values, but for practical mushroom classification, we need definitive \"edible\" or \"poisonous\" predictions. We need to convert these continuous probability values into discrete class labels:"
   ]
  },
  {
   "cell_type": "code",
   "execution_count": 69,
   "metadata": {},
   "outputs": [],
   "source": [
    "import numpy as np\n",
    "\n",
    "# Convert probabilities to binary predictions using a threshold of 0.5\n",
    "y_pred_final = (y_pred > 0.5).astype(int)"
   ]
  },
  {
   "cell_type": "markdown",
   "metadata": {},
   "source": [
    "This code performs what's called \"thresholding\":\n",
    "\n",
    "1. First, we compare each probability to the threshold value (0.5)\n",
    "   \n",
    "   - If probability > 0.5, the result is True (model thinks it's more likely poisonous)\n",
    "   - If probability ≤ 0.5, the result is False (model thinks it's more likely edible)\n",
    "\n",
    "2. Then, we convert these True/False values to integers (1/0) with ``.astype(int)``\n",
    "   \n",
    "   - True becomes 1 (poisonous)\n",
    "   - False becomes 0 (edible)\n",
    "\n",
    "The 0.5 threshold represents the decision boundary - the point where the model is equally confident in either class. We could adjust this threshold if we wanted to be more conservative about certain types of errors (e.g., lowering the threshold would classify more mushrooms as poisonous, reducing the chance of missing toxic ones).\n",
    "\n",
    "\n",
    "Now, let's visualize the model's prediction accuracy with a **confusion matrix**. \n",
    "This will allow us to see how many correct vs incorrect predictions were made using the model above."
   ]
  },
  {
   "cell_type": "code",
   "execution_count": 70,
   "metadata": {},
   "outputs": [
    {
     "data": {
      "image/png": "[encoded data removed]",
      "text/plain": [
       "<Figure size 1000x700 with 2 Axes>"
      ]
     },
     "metadata": {},
     "output_type": "display_data"
    }
   ],
   "source": [
    "from sklearn.metrics import confusion_matrix\n",
    "import seaborn as sns\n",
    "\n",
    "# Create confusion matrix\n",
    "cm=confusion_matrix(y_test,y_pred_final)\n",
    "\n",
    "# Create visualization\n",
    "plt.figure(figsize=(10,7))          # Set figure size to 10x7 inches\n",
    "sns.heatmap(cm,annot=True,fmt='d')  # Create heatmap with annotations and display counts as integers\n",
    "plt.xlabel('Predicted')             # Label x-axis as 'Predicted'\n",
    "plt.ylabel('Truth')                 # Label y-axis as 'Truth'\n",
    "plt.show()                          # Display the plot"
   ]
  },
  {
   "cell_type": "markdown",
   "metadata": {},
   "source": [
    "The confusion matrix visualization shows how well our model classifies mushrooms as edible or poisonous. The matrix is a 2x2 grid where:\n",
    "\n",
    "* The y-axis (Truth) shows the actual class of the mushrooms\n",
    "* The x-axis (Predicted) shows what our model predicted\n",
    "* Each cell contains the count of predictions falling into that category\n",
    "* The heatmap coloring provides visual intensity, where lighter colors indicate higher counts\n",
    "\n",
    "Reading the matrix:\n",
    "\n",
    "* **Top-left**: True Negatives (TN) - Correctly identified edible mushrooms\n",
    "* **Top-right**: False Positives (FP) - Edible mushrooms incorrectly classified as poisonous\n",
    "* **Bottom-left**: False Negatives (FN) - Poisonous mushrooms incorrectly classified as edible\n",
    "* **Bottom-right**: True Positives (TP) - Correctly identified poisonous mushrooms \n",
    "\n",
    "**Key Classification Metrics**\n",
    "\n",
    "From these confusion matrix values, we can calculate several important evaluation metrics:\n",
    "\n",
    "| Metric | Definition | Interpretation for Mushrooms |\n",
    "|--------|------------|----------------------------|\n",
    "| **Accuracy** | (TP + TN)/(TP + TN + FP + FN) | Percentage of all mushrooms correctly classified |\n",
    "| **Precision** | TP/(TP + FP) | When model predicts \"poisonous,\" how often is it right? |\n",
    "| **Recall** | TP/(TP + FN) | Of all poisonous mushrooms, how many did we correctly identify? |\n",
    "| **F1-Score** | 2 × (Precision × Recall)/(Precision + Recall) | Harmonic mean of precision and recall; useful when you need to balance both |\n",
    "| **Specificity** | TN/(TN + FP) | Of all edible mushrooms, how many did we correctly identify? |\n",
    "\n",
    "**Thought Challenge**: Which prediction metric is most important for this model? Why? "
   ]
  },
  {
   "cell_type": "markdown",
   "metadata": {},
   "source": [
    "Let's also print the full classification report of this model using code below:"
   ]
  },
  {
   "cell_type": "code",
   "execution_count": 71,
   "metadata": {},
   "outputs": [
    {
     "name": "stdout",
     "output_type": "stream",
     "text": [
      "              precision    recall  f1-score   support\n",
      "\n",
      "           0     0.9976    0.9992    0.9984      1263\n",
      "           1     0.9991    0.9974    0.9983      1175\n",
      "\n",
      "    accuracy                         0.9984      2438\n",
      "   macro avg     0.9984    0.9983    0.9984      2438\n",
      "weighted avg     0.9984    0.9984    0.9984      2438\n",
      "\n"
     ]
    }
   ],
   "source": [
    "from sklearn.metrics import classification_report\n",
    "\n",
    "print(classification_report(y_test,y_pred_final, digits=4))"
   ]
  },
  {
   "cell_type": "markdown",
   "metadata": {},
   "source": [
    "The accuracy of our model is 99.79%.\n",
    "99.79% of the time, this model predicted the correct label on the test data.\n",
    "\n",
    "**Thought Challenge**: Did we build a successful model? Why or why not? Is there anything we can do to improve the model?"
   ]
  }
 ],
 "metadata": {
  "kernelspec": {
   "display_name": "Day3-tf-213",
   "language": "python",
   "name": "day3-tf-213"
  },
  "language_info": {
   "codemirror_mode": {
    "name": "ipython",
    "version": 3
   },
   "file_extension": ".py",
   "mimetype": "text/x-python",
   "name": "python",
   "nbconvert_exporter": "python",
   "pygments_lexer": "ipython3",
   "version": "3.8.10"
  }
 },
 "nbformat": 4,
 "nbformat_minor": 2
}
